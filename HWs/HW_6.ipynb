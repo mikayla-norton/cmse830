{
 "cells": [
  {
   "cell_type": "markdown",
   "metadata": {
    "id": "MImc3IGNx-vh"
   },
   "source": [
    "\n",
    "____\n",
    "# <font color=#00FFBB>HW: Linear Regression</font>\n",
    "____\n"
   ]
  },
  {
   "cell_type": "markdown",
   "metadata": {
    "id": "LHPjoRNQySfy"
   },
   "source": [
    "____\n",
    "____\n",
    "![loss](https://miro.medium.com/max/574/1*mOjTP97xJacJLEAQx_L9eA.png)\n",
    "____\n",
    "## <font color=#BB00FF>Problem #1 (10pts)</font>\n",
    "\n",
    "Derive the basic equations given in class for linear regression (LR) in 1D. Show all of your work. Open a markdown cell and use [$\\LaTeX$](https://ashki23.github.io/markdown-latex.html) for the equations.\n",
    "\n",
    "That is, use the MSE:\n",
    "$${\\cal L}(m,b) = \\frac{1}{2}\\sum_d \\left(y_d - mx_d - b \\right)^2,$$\n",
    "and the minimization condition\n",
    "$$\\frac{\\partial {\\cal L}}{\\partial m} = 0,$$\n",
    "$$\\frac{\\partial {\\cal L}}{\\partial b} = 0.$$\n",
    "Solve for $m$ and $b$ and write your answer in terms of statistical quantities such as the variances, covariances and/or means. Note that you have two equations in two unknowns; you will have to solve those simultaneous equations to get the expressions for $m$ and $b$.\n",
    "\n",
    "There are many different notations used for these types of problems. I suggest you establish a convention you like to use and stick with it. Here is what I propose we use for now:\n",
    "\n",
    "* expectation value (mean)\n",
    "$$\\mathrm{E}[X] \\equiv \\langle X\\rangle \\equiv \\mu,$$\n",
    "$$    = \\frac{1}{N}\\sum_{d=1}^N x_d,$$\n",
    "where the $d$ sum is over the $N$ data points.\n",
    "\n",
    "* variance\n",
    "$$\\mathrm{Var}[X] = \\mathrm{E}[(X - \\mathrm{E}[X])^2],$$\n",
    "$$    = \\mathrm{E}[X^2] - \\mathrm{E}[X]^2,$$\n",
    "$$    = \\langle X^2\\rangle - \\mu^2,$$\n",
    "$$    = \\mathrm{Cov}[X,X].$$\n",
    "\n",
    "* covariance\n",
    "$$\\mathrm{Cov}[X,Y] = \\mathrm{E}[(X - \\mathrm{E}[X])(Y - \\mathrm{E}[Y])],$$\n",
    "$$    = \\mathrm{E}[XY] - \\mathrm{E}[X]\\mathrm{E}[Y].$$\n",
    "\n",
    "I tried to follow definitions used in Wikipedia so that we can all use the same conventions. Note that I have indicated some options for the mean so that you get used to seeing different forms.\n",
    "\n",
    "I wanted to comment on these conventions. There are two choices here that are not universal: the factor of $\\frac{1}{2}$ in ${\\cal L}$ and the factor of $\\frac{1}{N}$ in the statistical quantities. Neither of these choices really matters as long as you:\n",
    "* are consistent everywhere in your math,\n",
    "* use other people's libraries correctly (e.g., `statsmodels`),\n",
    "* communicate to others what you did.\n",
    "\n",
    "These choices are commonly made because they make the math cleaner, as you will see.\n",
    "\n",
    "Organize your equations so that you completely understand them. You will code them in the final problem below."
   ]
  },
  {
   "cell_type": "markdown",
   "metadata": {},
   "source": [
    "$$m = \\frac{cov(X,Y)}{cov(X,X)} = \\frac{E[X,Y]-E[X]E[Y]}{E[X,X]-E[X]^2}$$\n",
    "\n",
    "$$b = E[Y] - \\frac{cov(X,Y)}{cov(X,X)} E[X]$$\n",
    "\n"
   ]
  },
  {
   "cell_type": "markdown",
   "metadata": {
    "id": "CPlVWaJOy1R3"
   },
   "source": [
    "____\n",
    "____\n",
    "![cc](https://lh5.googleusercontent.com/7ZbEpmcYpEgMj9Qujn0r3_q7M7Oce5uBvTUpYO3p06mQ7L7arqNRZPYQ9Drjx7uMIcj8Nqyk40k7Y4eTXfQ_vmo97LQjFTM0zIaOrKuUUkYpqE5ks5MDxC4Zfelou2kkvnVuky-J)\n",
    "____\n",
    "## <font color=#BB00FF>Problem #2 (5pts)</font>\n",
    "\n",
    "Watch this video:\n",
    "\n",
    "\n"
   ]
  },
  {
   "cell_type": "code",
   "execution_count": null,
   "metadata": {
    "colab": {
     "base_uri": "https://localhost:8080/",
     "height": 337
    },
    "executionInfo": {
     "elapsed": 171,
     "status": "ok",
     "timestamp": 1665264806618,
     "user": {
      "displayName": "Michael Murillo",
      "userId": "04445914509865448303"
     },
     "user_tz": 240
    },
    "id": "NjzKhuI7grlS",
    "outputId": "45261bf5-bacb-4419-cea8-1e0811a8d3e6"
   },
   "outputs": [
    {
     "data": {
      "text/html": [
       "<iframe width=\"560\" height=\"315\" src=\"https://www.youtube.com/embed/qtaqvPAeEJY\" title=\"YouTube video player\" frameborder=\"0\" allow=\"accelerometer; autoplay; clipboard-write; encrypted-media; gyroscope; picture-in-picture\" allowfullscreen></iframe>"
      ],
      "text/plain": [
       "<IPython.core.display.HTML object>"
      ]
     },
     "execution_count": 3,
     "metadata": {},
     "output_type": "execute_result"
    }
   ],
   "source": [
    "from IPython.display import HTML\n",
    "HTML('<iframe width=\"560\" height=\"315\" src=\"https://www.youtube.com/embed/qtaqvPAeEJY\" title=\"YouTube video player\" frameborder=\"0\" allow=\"accelerometer; autoplay; clipboard-write; encrypted-media; gyroscope; picture-in-picture\" allowfullscreen></iframe>')"
   ]
  },
  {
   "cell_type": "markdown",
   "metadata": {
    "id": "IyIXATkgqmfX"
   },
   "source": [
    "In a markdown cell describe covariance and correlation, explain the difference and why we need two related quantities. That is, what does correlation do for us that covariance does not?"
   ]
  },
  {
   "cell_type": "markdown",
   "metadata": {},
   "source": [
    "<font color=\"pink\">Covariance: measure of joint variability in two random variables. It measures the direction of the linear relationship between said variables.\n",
    "\n",
    "Correlation: a statistical association between two variables indicating relationship. Like covariance, correlation also indicates direction of the linear relationship, but also measures strength.\n",
    "</font>"
   ]
  },
  {
   "cell_type": "markdown",
   "metadata": {
    "id": "l-bB5hA8Qeud"
   },
   "source": [
    "____\n",
    "____\n",
    "![Tufte](https://thedoublethink.com/wp-content/uploads/2016/09/lie_factor_example1_image.jpg)\n",
    "____\n",
    "## <font color=#BB00FF>Problem #3 (5pts)</font>\n",
    "\n",
    "In a markdown cell, describe three of Tufte's rules of good visualization."
   ]
  },
  {
   "cell_type": "markdown",
   "metadata": {},
   "source": [
    "<font color=\"pink\">\n",
    "\n",
    "1. graphical integrity: Using graphical elements that are not deliberately misleading. I just saw a great example of an annual event claiming 13,000 attendees and only putting in fine print that this was across all 10 years of event occurrences. It was deliberately misleading to demonstrate impact that isn't truly there.\n",
    "\n",
    "2. chart junk: Unnecessary noise on a chart should be reduced, as in anything that is not necessary for graphical comprehension. I have seen many examples where visualizations are over \"aestheticized\", which in turn, does not tell the data narrative.\n",
    "\n",
    "3. data ink: Reducing to only necessary gridlines, labels, points, etc will make the plot easier to read and direct the eye to the proper focal points</font>"
   ]
  },
  {
   "cell_type": "markdown",
   "metadata": {
    "id": "9eWYv9EHh0Ee"
   },
   "source": [
    "____\n",
    "____\n",
    "![sl](https://blog.streamlit.io/content/images/size/w600/2022/04/Live-Data-Science-Dashboard-GIF.gif)\n",
    "____\n",
    "## <font color=#BB00FF>Problem #4 (25pts)</font>\n",
    "\n",
    "Before we get to your project, just a reminder about some dates:\n",
    "* **Oct. 18** is project presentations!\n",
    "* On that day, students are divided in groups of 4 and 5. As mentioned in hw 5, the order of presentation are random, so you should be prepared to present the work once you arrive.\n",
    "* Each student will have a $\\sim 10$ minute presentation on their projects, their goals, and what they have achieved.\n",
    "* After each presentation, the rest of the group will have $\\sim 5$ minutes to discuss the project and ask their questions.\n",
    "* In addition to presenting your project, you are going to listen to each other presentation. Each student will submit one report which include feedbacks from other presentations of their group.\n",
    "* A rubric will be provided on **Oct. 18** which will be used a guidance for presentation reports.\n",
    "* The presentation reports are due on **Oct. 18**.\n",
    "* **Oct. 23** is Fall Break; we will have an ICA on the Wednesday of that week combining material from previous topics\n",
    "* **Oct. 27** is Project submission due date.\n",
    "* **Oct. 30** is a normal week, except that I will not be here; you will have graduate student [David Butts](https://icer.msu.edu/about/announcements/icer-student-highlights-david-butts)\n",
    "\n",
    "\n",
    "You should be in good shape with your project! You have this week to complete it. You should have:\n",
    "* picked a dataset,\n",
    "* you know what is interesting about it,\n",
    "* you developed a story/narrative of the dataset,\n",
    "* you are now an expert on excellent visualization,\n",
    "* you know how to build a simple streamlit web app,\n",
    "* and you have mostly put all of these together.\n",
    "\n",
    "The final step is deploying the web app, which you will do this week. Previously, you watched some videos on how to do this, so you should be mostly ready. For this HW you could deploy your actual project -- _if you have it done!_ -- but more likely you will deploy a smaller, practice version of it.\n",
    "\n",
    "Just a reminder of the steps:\n",
    "* you need a practice `.py` file using `streamlit` in addition to any datasets that might be required within the python file,\n",
    "* you need to create an additional file which is `requirements.txt` and includes the libraries. You can use the `pipreqs` method which is explained [here](https://stackoverflow.com/questions/31684375/automatically-create-file-requirements-txt).\n",
    "\n",
    "As you have seen in the past HWs, you can easily deploy your apps directly into streamlit. To do that, you need to create a GH repository (create a public repo for your project to ensure that the streamlit link you shared can be opened by anyone in your group, me or Mahyar). Once you have a repo with a python file, required data files, and a `requirement.txt`, you need to login to streamlit (with the same email as you have for GH account). There you can create a new app based on the project repository. If you have any problems, post your questions in Slack.\n",
    "\n",
    "When you are done, paste the link here so that Mahyar can test it. Mahyar will share a google document on **Oct. 16** which you are going to put your **full name** and the **streamlit link** for your webapp (remember that link for your final version of mid-term project should be provided before the class starts on **Oct. 18**).\n",
    "\n",
    "For the midterm project, you will do three things:\n",
    "* give a $\\sim 10$ minute presentation during class (on the Wed **Oct. 18**),\n",
    "* turn in your code and dataset to D2L,\n",
    "* provide the link to the operational web app.\n",
    "\n",
    "We will collect the links so that you can all see what the other students have done, and we will share them with other faculty. (If there is a reason your link cannot be shared, please let me know.)\n",
    "\n",
    "\n"
   ]
  },
  {
   "cell_type": "markdown",
   "metadata": {},
   "source": [
    "<font color=\"pink\"> https://cmse830-midterm-emissions.streamlit.app/ </font>"
   ]
  },
  {
   "cell_type": "markdown",
   "metadata": {
    "id": "aYMcUoTndeN7"
   },
   "source": [
    "____\n",
    "## <font color=#BB00FF>Problem #5 (5pts)</font>\n",
    "\n",
    "Create a dataset that is a noisy line; that is, you have $y= mx+b$ and you want to add a controllable amount of noise to that. From the equations you derived in the first problem, use that data to compute the slope $m'$ and intercept $b'$, where the prime indicates a value inferred from the data.\n",
    "\n",
    "Confirm with a plot that you are getting a good fit to your data. Vary the noise, make more plots and comment on how well you are able to predict the actual values of $m$ and $b$.\n",
    "\n",
    "Finally, in a markdown cell, discuss how you could use the code you just wrote to handle missing values. Are there other steps you would want to add?\n"
   ]
  },
  {
   "cell_type": "code",
   "execution_count": 39,
   "metadata": {
    "id": "cFWYHmbzapOb"
   },
   "outputs": [
    {
     "data": {
      "text/plain": [
       "Text(0.5, 1.0, 'Noisy Data (without)')"
      ]
     },
     "execution_count": 39,
     "metadata": {},
     "output_type": "execute_result"
    },
    {
     "data": {
      "image/png": "[encoded data removed]",
      "text/plain": [
       "<Figure size 640x480 with 1 Axes>"
      ]
     },
     "metadata": {},
     "output_type": "display_data"
    }
   ],
   "source": [
    "import numpy as np\n",
    "import matplotlib.pyplot as plt\n",
    "\n",
    "x = np.arange(0,100,1) \n",
    "slope = 7.5\n",
    "intercept = -3\n",
    "mu = 3.3\n",
    "sigma = 50\n",
    "y = slope*x + intercept\n",
    "\n",
    "noise = np.random.normal(mu,sigma, len(x)) \n",
    "\n",
    "y_noised = y + noise \n",
    "\n",
    "plt.scatter(x, y_noised)\n",
    "plt.title(\"Noisy Data (without)\")\n"
   ]
  },
  {
   "cell_type": "code",
   "execution_count": 40,
   "metadata": {},
   "outputs": [
    {
     "data": {
      "text/plain": [
       "Text(0.5, 1.0, 'Noisy Data (with fitted line)')"
      ]
     },
     "execution_count": 40,
     "metadata": {},
     "output_type": "execute_result"
    },
    {
     "data": {
      "image/png": "[encoded data removed]",
      "text/plain": [
       "<Figure size 640x480 with 1 Axes>"
      ]
     },
     "metadata": {},
     "output_type": "display_data"
    }
   ],
   "source": [
    "m = (sum((x-np.mean(x))*(y-np.mean(y)))/len(x))/(np.var(x))\n",
    "b = np.mean(y_noised) - m*np.mean(x)\n",
    "yfit = b+ m*x\n",
    "\n",
    "plt.scatter(x, y_noised)\n",
    "plt.plot(x, yfit, color=\"red\")\n",
    "plt.title(\"Noisy Data (with fitted line)\")\n"
   ]
  },
  {
   "cell_type": "code",
   "execution_count": 41,
   "metadata": {},
   "outputs": [
    {
     "name": "stdout",
     "output_type": "stream",
     "text": [
      "The actual slope is 7.5 and the intercept is -3, but the model estimated a slope value of 7.5 and an intercept of 1.66 \n",
      " for a noise level normally distributed by Y_noise ~ N(3.3,50)\n"
     ]
    }
   ],
   "source": [
    "print(\"The actual slope is \"+ str(slope)+ \" and the intercept is \" + str(intercept) + \", but the model estimated a slope value of \"\n",
    "    + str(round(m,2))+\" and an intercept of \" + str(round(b,2))+\" \\n for a noise level normally distributed by Y_noise ~ N(\" + str(mu) + \",\" + str(sigma) +\")\")"
   ]
  },
  {
   "cell_type": "markdown",
   "metadata": {},
   "source": [
    "<font color=\"pink\">Slope, m, is consistently predicted correctly. IF we knew the distribution of noise and the model expectations, we could absolutely make guesses of missing data points based off the regression line and normally distributed noise.</font>"
   ]
  }
 ],
 "metadata": {
  "colab": {
   "collapsed_sections": [
    "LHPjoRNQySfy",
    "l-bB5hA8Qeud"
   ],
   "provenance": []
  },
  "kernelspec": {
   "display_name": "Python 3 (ipykernel)",
   "language": "python",
   "name": "python3"
  },
  "language_info": {
   "codemirror_mode": {
    "name": "ipython",
    "version": 3
   },
   "file_extension": ".py",
   "mimetype": "text/x-python",
   "name": "python",
   "nbconvert_exporter": "python",
   "pygments_lexer": "ipython3",
   "version": "3.11.3"
  }
 },
 "nbformat": 4,
 "nbformat_minor": 1
}
